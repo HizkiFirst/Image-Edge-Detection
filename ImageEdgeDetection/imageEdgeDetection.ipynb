{
 "cells": [
  {
   "cell_type": "markdown",
   "metadata": {},
   "source": [
    "Import Library OpenCV"
   ]
  },
  {
   "cell_type": "code",
   "execution_count": 3,
   "metadata": {},
   "outputs": [],
   "source": [
    "import cv2 as opencv\n",
    "import numpy as np"
   ]
  },
  {
   "cell_type": "markdown",
   "metadata": {},
   "source": [
    "Read Image"
   ]
  },
  {
   "cell_type": "code",
   "execution_count": 4,
   "metadata": {},
   "outputs": [],
   "source": [
    "originalImage = opencv.imread('gambar.jpg')"
   ]
  },
  {
   "cell_type": "markdown",
   "metadata": {},
   "source": [
    "Functions to Show Image "
   ]
  },
  {
   "cell_type": "code",
   "execution_count": 5,
   "metadata": {},
   "outputs": [],
   "source": [
    "def showImage(img, title):\n",
    "    opencv.imshow(title,img)\n",
    "    opencv.waitKey(0)"
   ]
  },
  {
   "cell_type": "markdown",
   "metadata": {},
   "source": [
    "Change The Pixel from RGB to Grayscale"
   ]
  },
  {
   "cell_type": "code",
   "execution_count": 6,
   "metadata": {},
   "outputs": [],
   "source": [
    "grayImage = opencv.cvtColor(originalImage, opencv.COLOR_BGR2GRAY)"
   ]
  },
  {
   "cell_type": "markdown",
   "metadata": {},
   "source": [
    "Change The Pixel from Grayscale to Black and White"
   ]
  },
  {
   "cell_type": "code",
   "execution_count": 7,
   "metadata": {},
   "outputs": [],
   "source": [
    "(thresh, bnWImage) = opencv.threshold(grayImage, 127, 255, opencv.THRESH_BINARY)"
   ]
  },
  {
   "cell_type": "code",
   "execution_count": 9,
   "metadata": {},
   "outputs": [
    {
     "name": "stdout",
     "output_type": "stream",
     "text": [
      "(928, 619)\n"
     ]
    }
   ],
   "source": [
    "print(bnWImage.shape)\n",
    "rows, cols = bnWImage.shape\n",
    "\n",
    "black = [0,0,0]\n",
    "white = [255,255,255]\n",
    "isNotEdge = []\n",
    "edge = np.copy(bnWImage)\n",
    "skX = [\n",
    "    [-1, 0, 1],\n",
    "    [-2,0,2],\n",
    "    [-1,0,1]\n",
    "]\n",
    "skY = [\n",
    "    [-1, 2, -1],\n",
    "    [0,0,0],\n",
    "    [1,2,1]\n",
    "]\n",
    "threshold = thresh\n"
   ]
  },
  {
   "cell_type": "code",
   "execution_count": 8,
   "metadata": {},
   "outputs": [],
   "source": [
    "for i in range(rows-1):\n",
    "    if i > 0:\n",
    "     for j in range(cols-1):\n",
    "        if j > 0:\n",
    "            differenceX = (bnWImage[i-1][j-1] * skX[0][0]) + (bnWImage[i][j-1] * skX[1][0]) + (bnWImage[i+1][j-1] * skX[2][0]) +    (bnWImage[i-1][j+1] * skX[0][2]) + (bnWImage[i][j+1] * skX[1][2]) + (bnWImage[i+1][j+1] * skX[2][2]) \n",
    "            differenceY = (bnWImage[i-1][j-1] * skY[0][0]) + (bnWImage[i-1][j] * skY[0][1]) + (bnWImage[i-1][j+1] * skY[0][2]) +    (bnWImage[i+1][j-1] * skY[2][0]) + (bnWImage[i+1][j] * skY[2][1]) + (bnWImage[i+1][j+1] * skY[2][2]) \n",
    "            Norm = np.sqrt(pow(differenceX,2) + pow(differenceY,2))\n",
    "            #print(differenceX)\n",
    "            if Norm < threshold:\n",
    "                x = [i,j]\n",
    "                isNotEdge.append(x)   \n"
   ]
  },
  {
   "cell_type": "code",
   "execution_count": 10,
   "metadata": {},
   "outputs": [
    {
     "name": "stdout",
     "output_type": "stream",
     "text": [
      "0\n"
     ]
    }
   ],
   "source": [
    "print(len(isNotEdge))\n",
    "edge[0,0] = (0,0,0)"
   ]
  },
  {
   "cell_type": "code",
   "execution_count": 14,
   "metadata": {},
   "outputs": [],
   "source": [
    "for i in isNotEdge:\n",
    "    edge[i[0],i[1]] = 0"
   ]
  },
  {
   "cell_type": "code",
   "execution_count": 8,
   "metadata": {},
   "outputs": [],
   "source": [
    "showImage(bnWImage, 'Edge')"
   ]
  },
  {
   "cell_type": "code",
   "execution_count": 15,
   "metadata": {},
   "outputs": [],
   "source": [
    "showImage(edge, 'Edge')"
   ]
  },
  {
   "cell_type": "code",
   "execution_count": 7,
   "metadata": {},
   "outputs": [
    {
     "data": {
      "text/plain": [
       "True"
      ]
     },
     "execution_count": 7,
     "metadata": {},
     "output_type": "execute_result"
    }
   ],
   "source": [
    "sobelX = opencv.Sobel(src=blackAndWhiteImage, ddepth=opencv.CV_64F, dx=1, dy=0, ksize=5)\n",
    "showImage(sobelX, 'sobelX')\n",
    "opencv.imwrite('sobelX.jpg', sobelX)"
   ]
  },
  {
   "cell_type": "code",
   "execution_count": 9,
   "metadata": {},
   "outputs": [
    {
     "data": {
      "text/plain": [
       "True"
      ]
     },
     "execution_count": 9,
     "metadata": {},
     "output_type": "execute_result"
    }
   ],
   "source": [
    "sobelY = opencv.Sobel(src=blackAndWhiteImage, ddepth=opencv.CV_64F, dx=0, dy=1, ksize=5)\n",
    "showImage(sobelY, 'sobelY')\n",
    "opencv.imwrite('sobelY.jpg', sobelY)"
   ]
  },
  {
   "cell_type": "code",
   "execution_count": null,
   "metadata": {},
   "outputs": [],
   "source": []
  },
  {
   "cell_type": "code",
   "execution_count": 16,
   "metadata": {},
   "outputs": [
    {
     "data": {
      "text/plain": [
       "True"
      ]
     },
     "execution_count": 16,
     "metadata": {},
     "output_type": "execute_result"
    }
   ],
   "source": [
    "sobelXY = opencv.Sobel(src=blackAndWhiteImage, ddepth=opencv.CV_64F, dx=1, dy=1, ksize=5)\n",
    "showImage(sobelXY, 'sobelXY')\n",
    "opencv.imwrite('sobelXY.jpg', sobelXY)"
   ]
  },
  {
   "cell_type": "code",
   "execution_count": 15,
   "metadata": {},
   "outputs": [],
   "source": [
    "sobelXY = opencv.Sobel(src=grayImage, ddepth=opencv.CV_64F, dx=1, dy=1, ksize=5)\n",
    "showImage(sobelXY, 'sobelXY')  "
   ]
  },
  {
   "cell_type": "code",
   "execution_count": 14,
   "metadata": {},
   "outputs": [
    {
     "data": {
      "text/plain": [
       "True"
      ]
     },
     "execution_count": 14,
     "metadata": {},
     "output_type": "execute_result"
    }
   ],
   "source": [
    "edges = opencv.Canny(image=grayImage, threshold1=25, threshold2=25)\n",
    "showImage(edges, 'Edge Detection')\n",
    "opencv.imwrite('gray.jpg', edges)"
   ]
  },
  {
   "cell_type": "code",
   "execution_count": 13,
   "metadata": {},
   "outputs": [
    {
     "data": {
      "text/plain": [
       "True"
      ]
     },
     "execution_count": 13,
     "metadata": {},
     "output_type": "execute_result"
    }
   ],
   "source": [
    "edges = opencv.Canny(image=blackAndWhiteImage, threshold1=20, threshold2=20)\n",
    "showImage(edges, 'Edge Detection')\n",
    "opencv.imwrite('bnw.jpg', edges)"
   ]
  },
  {
   "cell_type": "code",
   "execution_count": null,
   "metadata": {},
   "outputs": [],
   "source": []
  }
 ],
 "metadata": {
  "interpreter": {
   "hash": "21f66d55e8ab1ecef01a23ca86f6b649e64e0ba5522e4326a5988c1ce361373a"
  },
  "kernelspec": {
   "display_name": "Python 3.9.10 64-bit",
   "language": "python",
   "name": "python3"
  },
  "language_info": {
   "codemirror_mode": {
    "name": "ipython",
    "version": 3
   },
   "file_extension": ".py",
   "mimetype": "text/x-python",
   "name": "python",
   "nbconvert_exporter": "python",
   "pygments_lexer": "ipython3",
   "version": "3.9.10"
  },
  "orig_nbformat": 4
 },
 "nbformat": 4,
 "nbformat_minor": 2
}
